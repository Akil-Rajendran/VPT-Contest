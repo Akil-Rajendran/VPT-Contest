{
  "nbformat": 4,
  "nbformat_minor": 0,
  "metadata": {
    "colab": {
      "name": "venmurasu programming.ipynb",
      "provenance": [],
      "include_colab_link": true
    },
    "kernelspec": {
      "name": "python3",
      "display_name": "Python 3"
    },
    "language_info": {
      "name": "python"
    }
  },
  "cells": [
    {
      "cell_type": "markdown",
      "metadata": {
        "id": "view-in-github",
        "colab_type": "text"
      },
      "source": [
        "<a href=\"https://colab.research.google.com/github/Akil-Rajendran/VPT-Contest/blob/main/venmurasu_programming.ipynb\" target=\"_parent\"><img src=\"https://colab.research.google.com/assets/colab-badge.svg\" alt=\"Open In Colab\"/></a>"
      ]
    },
    {
      "cell_type": "markdown",
      "metadata": {
        "id": "deRLtPehHeDG"
      },
      "source": [
        "# **IMPORTING**"
      ]
    },
    {
      "cell_type": "code",
      "metadata": {
        "id": "eDlgVnyVqjV4"
      },
      "source": [
        "pip install Open-Tamil"
      ],
      "execution_count": null,
      "outputs": []
    },
    {
      "cell_type": "code",
      "metadata": {
        "id": "8rmI-chMHnOE"
      },
      "source": [
        "import os\n",
        "import re \n",
        "from tamil import utf8\n",
        "import nltk\n",
        "nltk.download('punkt')"
      ],
      "execution_count": null,
      "outputs": []
    },
    {
      "cell_type": "code",
      "metadata": {
        "id": "418MEqCVeYv5"
      },
      "source": [
        "import nltk\n",
        "import nltk.translate.bleu_score as bleu\n",
        "\n",
        "import math\n",
        "import numpy\n",
        "import os\n",
        "\n",
        "try:\n",
        "  nltk.data.find('tokenizers/punkt')\n",
        "except LookupError:\n",
        "  nltk.download('punkt')"
      ],
      "execution_count": 10,
      "outputs": []
    },
    {
      "cell_type": "code",
      "metadata": {
        "id": "38OOyFXs1yZp"
      },
      "source": [
        "from nltk.tokenize import sent_tokenize"
      ],
      "execution_count": 53,
      "outputs": []
    },
    {
      "cell_type": "markdown",
      "metadata": {
        "id": "k6_TMAs11QOH"
      },
      "source": [
        "# **COMBINING ALL THE TEXT TO ONE FILE**"
      ]
    },
    {
      "cell_type": "code",
      "metadata": {
        "id": "yEIg3KNZ1bzS"
      },
      "source": [
        "tam_comb = []\n",
        "#temp = []\n",
        "\n",
        "with open(\"/content/drive/MyDrive/resources/Mahabharatha-Adiparva-Section22-ta.txt\", \"r\", encoding='utf8') as tam:\n",
        "  tam_comb = tam.read()\n",
        "  #tam_comb.append(temp)\n",
        "\n",
        "#for i in range(0,len(engfile)):\n",
        "#  sentok.append([sent_tokenize(i) for i in engfile[i]])\n",
        "#sentok\n",
        "\n",
        "#for i in range(22,32):\n",
        "#  temp = []\n",
        "#  with open(\"/content/drive/MyDrive/resources/Mahabharatha-Adiparva-Section\" + str(i) + \"-ta.txt\", \"r\", encoding='utf8') as tam:\n",
        "#    temp = tam.read()\n",
        " # tam_comb.append(temp)\n",
        "\n",
        "#tam_comb"
      ],
      "execution_count": 78,
      "outputs": []
    },
    {
      "cell_type": "code",
      "metadata": {
        "id": "GP7-hlCn_xPw"
      },
      "source": [
        "en_comb = []\n",
        "#temp = []\n",
        "\n",
        "with open(\"/content/drive/MyDrive/resources/Mahabharatha-Adiparva-Section22-en.txt\", \"r\") as eng:\n",
        "  en_comb = eng.read()\n",
        "# en_comb.append(temp)\n",
        "\n",
        "#for i in range(22,32):\n",
        "#  temp = []\n",
        "#  with open(\"/content/drive/MyDrive/resources/Mahabharatha-Adiparva-Section\" + str(i) + \"-en.txt\", \"r\", encoding='utf8') as engl:\n",
        "#    temp = engl.read()\n",
        "#  en_comb.append(temp)\n",
        "\n",
        "#en_comb"
      ],
      "execution_count": 79,
      "outputs": []
    },
    {
      "cell_type": "code",
      "metadata": {
        "id": "-EjYW92OpPoU",
        "outputId": "5894e309-31c8-41ed-c788-5dd4b0c2d162",
        "colab": {
          "base_uri": "https://localhost:8080/"
        }
      },
      "source": [
        "from google.colab import drive\n",
        "drive.mount('/content/drive')"
      ],
      "execution_count": 2,
      "outputs": [
        {
          "output_type": "stream",
          "name": "stdout",
          "text": [
            "Mounted at /content/drive\n"
          ]
        }
      ]
    },
    {
      "cell_type": "markdown",
      "metadata": {
        "id": "n_WkFwpNHs1y"
      },
      "source": [
        "# **FUNCTON FOR CLEANING**\n"
      ]
    },
    {
      "cell_type": "code",
      "metadata": {
        "id": "I9T4Kco_Kob0"
      },
      "source": [
        "def clean(data):\n",
        "  lists = nltk.tokenize.sent_tokenize(data)\n",
        "  arr = []\n",
        "  for i in range(len(lists)-1):\n",
        "    string = re.sub(\"\\[.*?\\]\", \"\", lists[i])\n",
        "    string = re.sub(\"\\(.*?\\)\", \"\", string)\n",
        "    string = re.sub(\"\\{.*?\\}\", \"\", string)\n",
        "    string = re.sub('[\"\\n]', \"\", string)\n",
        "    arr.append(string.strip())\n",
        "  return arr"
      ],
      "execution_count": 80,
      "outputs": []
    },
    {
      "cell_type": "code",
      "metadata": {
        "id": "I6mWHKoj5zON",
        "colab": {
          "base_uri": "https://localhost:8080/"
        },
        "outputId": "a98fc7ec-8f25-419d-e974-9a01529966a5"
      },
      "source": [
        "tamfile = []\n",
        "\n",
        "#for i in range(len(tam_comb)):\n",
        "tamfile.append(clean(tam_comb))\n",
        "flat_tamfile = [item for sublist in tamfile for item in sublist]\n",
        "tamil = [sent_tokenize(i) for i in flat_tamfile]\n",
        "tamil\n",
        "\n",
        "\n",
        "#for i in tamfile:\n",
        "#  print(i, end = \"\\n\\n\")"
      ],
      "execution_count": 94,
      "outputs": [
        {
          "output_type": "execute_result",
          "data": {
            "text/plain": [
              "[['சௌதி சொன்னார், தாயின்  ஆசை நிராசையானால், அவள் தங்கள் மீது வைத்திருக்கும் பாசத்தைத் துறந்து தங்களை எரித்துவிடுவாளோ என்ற பயத்தில், பாம்புகள் தங்களுக்குள் கலந்து பேசி, அவளது ஆணையை நிறைவேற்றுவது என்று முடிவு செய்தனர்.'],\n",
              " ['மற்றொருபுறம், அவள் கருணை தங்களுக்குக் கிடைக்குமானால், தங்களைச் சாபத்திலிருந்து விடுவிப்பாள் என்ற எண்ணத்தில், நாம் நிச்சயமாகக் குதிரையின் வாலைக் கருப்பாக்குவோம் என்றனர்.'],\n",
              " ['பிறகு அந்தப் பாம்புகள் சென்று குதிரையின் வாலின் முடிகளாக மாறினர் என்று சொல்லப்படுகிறது.'],\n",
              " ['பந்தயம் கட்டிக்கொண்ட அந்தச் சக்களத்திகளும் , ஓ பிராமணர்களில் சிறந்தவரே, தக்ஷனின் மகள்களும், சகோதரிகளுமான கத்ரு மற்றும் வினதை ஆகிய இருவரும், கடலின் அக்கரையைக் காண வான் வெளியில் மகிழ்ச்சியுடன் விரைந்தனர்.'],\n",
              " ['அப்படிச் செல்லும்போது, எளிதாகக் கலங்கடிக்கப்பட முடியாததான அந்த நீர்ப்பாத்திரமானது, திடீரென்று வலிமைமிகுந்த காற்றால் அசைக்கப்பட்டுப் பேரொலியுடன் கர்ஜிப்பதைக் கண்டனர்.'],\n",
              " ['திமிங்கலங்களையே விழுங்கும் பெரிய மீன்கள், மகரங்கள், ஆயிரக்கணக்கான வெவ்வெறு வடிவங்களிலாலான பல்வேறு உயிரிகளுடன், கொடுமையான பெரும் விலங்குகளுடன் அச்சத்தைத் தருவதாக, அணுக முடியாத ஆழத்தோடு பயங்கரமாக, எல்லா வகையான ரத்தினங்களின் சுரங்கமாக, வருணனின்  இல்லமாக, நாகர்களின் வசிப்பிடமாக, ஆறுகள் அனைத்திற்கும் அரசனாக, பூமிக்கடியில் உள்ள நெருப்பின் இருப்பிடமாக, அசுரர்களுக்கு வசிப்பிடமாக, எல்லாப் பயங்கரமான உயிரினங்களுக்கும் இருப்பிடமாக, நீர்க்களஞ்சியமாக,  அழுகுதலில்லாமல்  நறுமணம் மிக்கதாக, அற்புதமானதாக, தேவர்களுடைய அமுதத்தின் ஊற்றாக, அளக்கமுடியாததாக, புத்திக்கு எட்டாததாக, புனிதமான நீரைக் கொண்டதாக, ஆயிரக்கணக்கான பெரிய ஆறுகளின் நீரினால் விளிம்பு வரை நிறைந்திருந்ததாக, அலைகள் நாட்டியமாடிக்கொண்டிருந்த, கடலை அவர்கள் கண்டனர்.'],\n",
              " ['புரளும் அலைகளுடன் விண்ணைப் போல் பெரும்பரப்புக் கொண்டதாக, ஆழமானதாக, பூமிக்கடியில் உள்ள நெருப்பினால் சுடர்மேனி கொண்டதாக, கர்ஜனை செய்வதாக இருந்த அந்தக் கடலைச் சகோதரிகள் இருவரும்  வேகமாகக் கடந்தனர் .']]"
            ]
          },
          "metadata": {},
          "execution_count": 94
        }
      ]
    },
    {
      "cell_type": "code",
      "metadata": {
        "colab": {
          "base_uri": "https://localhost:8080/"
        },
        "id": "ZOGg_s6rAeAf",
        "outputId": "62c6e56d-9330-4dd1-c890-cfd0b22118ec"
      },
      "source": [
        "engfile = []\n",
        "\n",
        "engfile.append(clean(en_comb))\n",
        "flat_enfile = [item for sublist in engfile for item in sublist]\n",
        "if 'SECTION XXII' in flat_enfile[0]: \n",
        "  flat_enfile[0].replace(\"SECTION XXII\", \"\")\n",
        "english = [sent_tokenize(i) for i in flat_enfile]\n",
        "english\n",
        "\n",
        "#for i in range(len(en_comb)):\n",
        "#  engfile.append(clean(en_comb[i]))\n",
        "\n",
        "#for i in engfile:\n",
        "#  print(i, end = \"\\n\\n\")"
      ],
      "execution_count": 103,
      "outputs": [
        {
          "output_type": "execute_result",
          "data": {
            "text/plain": [
              "[[\"SECTION XXIISauti said, 'The Nagas after consultation arrived at the conclusion that they should do their mother's bidding, for if she failed in obtaining her desire she might withdraw her affection and burn them all.\"],\n",
              " ['If, on the other hand, she were graciously inclined, she might free them from her curse.'],\n",
              " [\"They said, 'We will certainly render the horse's tail black.'\"],\n",
              " [\"And it is said that they then went and became hairs in the horse's tail.\"],\n",
              " ['Now the two co-wives had laid the wager.'],\n",
              " ['And having laid the wager, O best of Brahmanas, the two sisters Kadru and Vinata, the daughters of Daksha, proceeded in great delight along the sky to see the other side of the Ocean.'],\n",
              " ['And on their way they saw the Ocean, that receptacle of waters, incapable of being easily disturbed, mightily agitated all of a sudden by the wind, and roaring tremendously; abounding with fishes capable of swallowing the whale and full of makaras; containing also creatures of diverse forms counted by thousands; frightful from the presence of horrible monsters, inaccessible, deep, and terrible, the mine of all kinds of gems, the home of Varuna , the wonderful habitations of the Nagas, the lord of rivers, the abode of the subterranean fire; the residence of the Asuras and of many dreadful creatures; the reservoir of water, not subject to decay, aromatic, and wonderful, the great source of the amrita of the celestials; immeasurable and inconceivable, containing waters that are holy, filled to the brim by many thousands of great rivers, dancing as it were in waves.'],\n",
              " [\"Such was the Ocean, full of rolling waves, vast as the expanse of the sky, deep, of body lighted with the flames of subterranean fire, and roaring, which the sisters quickly passed over.'\"]]"
            ]
          },
          "metadata": {},
          "execution_count": 103
        }
      ]
    },
    {
      "cell_type": "code",
      "metadata": {
        "id": "l6uNKSYPA6Xo"
      },
      "source": [
        "a = str(en_comb)\n",
        "#a.split('.')\n",
        "a = a.split('.')\n",
        "a = re.sub(\"\\[.*?\\]\", \"\", en_comb)\n",
        "#string = re.sub(\"\\(.*?\\)\", \"\", a)\n",
        "#string = re.sub(\"\\{.*?\\}\", \"\", string)\n",
        "#string = re.sub('[\"\\n]', \"\", string)\n",
        "a"
      ],
      "execution_count": null,
      "outputs": []
    },
    {
      "cell_type": "markdown",
      "metadata": {
        "id": "biZFzk6Gr5Fm"
      },
      "source": [
        "# **MODEL**"
      ]
    },
    {
      "cell_type": "code",
      "metadata": {
        "id": "98cE7aXEdlgQ"
      },
      "source": [
        "# clone the repo for running evaluation\n",
        "!git clone https://github.com/AI4Bharat/indicTrans.git\n",
        "%cd indicTrans\n",
        "# clone requirements repositories\n",
        "!git clone https://github.com/anoopkunchukuttan/indic_nlp_library.git\n",
        "!git clone https://github.com/anoopkunchukuttan/indic_nlp_resources.git\n",
        "!git clone https://github.com/rsennrich/subword-nmt.git\n",
        "%cd .."
      ],
      "execution_count": null,
      "outputs": []
    },
    {
      "cell_type": "code",
      "metadata": {
        "id": "rNf2Hbk4fZEi"
      },
      "source": [
        "# Install the necessary libraries\n",
        "!pip install sacremoses pandas mock sacrebleu tensorboardX pyarrow indic-nlp-library\n",
        "! pip install mosestokenizer subword-nmt\n",
        "# Install fairseq from source\n",
        "!git clone https://github.com/pytorch/fairseq.git\n",
        "%cd fairseq\n",
        "\n",
        "!pip install --editable ./\n",
        "\n",
        "%cd .."
      ],
      "execution_count": null,
      "outputs": []
    },
    {
      "cell_type": "code",
      "metadata": {
        "id": "YPFf4dq0gyiW"
      },
      "source": [
        "from fairseq import checkpoint_utils, distributed_utils, options, tasks, utils"
      ],
      "execution_count": 1,
      "outputs": []
    },
    {
      "cell_type": "code",
      "metadata": {
        "id": "V7y3qNOahlV5",
        "outputId": "bdf3762b-c0e2-435d-9998-e61a2f3690cb",
        "colab": {
          "base_uri": "https://localhost:8080/"
        }
      },
      "source": [
        "# downloading the indic-en model\n",
        "!wget https://storage.googleapis.com/samanantar-public/V0.2/models/indic-en.zip\n",
        "!unzip indic-en.zip\n",
        "\n",
        "%cd indicTrans"
      ],
      "execution_count": 2,
      "outputs": [
        {
          "output_type": "stream",
          "name": "stdout",
          "text": [
            "--2021-09-11 16:26:31--  https://storage.googleapis.com/samanantar-public/V0.2/models/indic-en.zip\n",
            "Resolving storage.googleapis.com (storage.googleapis.com)... 74.125.137.128, 142.250.141.128, 142.251.2.128, ...\n",
            "Connecting to storage.googleapis.com (storage.googleapis.com)|74.125.137.128|:443... connected.\n",
            "HTTP request sent, awaiting response... 200 OK\n",
            "Length: 4551079075 (4.2G) [application/zip]\n",
            "Saving to: ‘indic-en.zip’\n",
            "\n",
            "indic-en.zip        100%[===================>]   4.24G  43.0MB/s    in 83s     \n",
            "\n",
            "2021-09-11 16:27:54 (52.6 MB/s) - ‘indic-en.zip’ saved [4551079075/4551079075]\n",
            "\n",
            "Archive:  indic-en.zip\n",
            "   creating: indic-en/\n",
            "   creating: indic-en/vocab/\n",
            "  inflating: indic-en/vocab/bpe_codes.32k.SRC  \n",
            "  inflating: indic-en/vocab/vocab.SRC  \n",
            "  inflating: indic-en/vocab/vocab.TGT  \n",
            "  inflating: indic-en/vocab/bpe_codes.32k.TGT  \n",
            "   creating: indic-en/final_bin/\n",
            "  inflating: indic-en/final_bin/dict.TGT.txt  \n",
            "  inflating: indic-en/final_bin/dict.SRC.txt  \n",
            "   creating: indic-en/model/\n",
            "  inflating: indic-en/model/checkpoint_best.pt  \n",
            "/content/indicTrans\n"
          ]
        }
      ]
    },
    {
      "cell_type": "code",
      "metadata": {
        "id": "pqhbnGHUhqbO"
      },
      "source": [
        "from indicTrans.inference.engine import Model\n",
        "\n",
        "indic2en_model = Model(expdir='../indic-en')"
      ],
      "execution_count": null,
      "outputs": []
    },
    {
      "cell_type": "markdown",
      "metadata": {
        "id": "ubQkigSmYBGH"
      },
      "source": [
        "# **TRANSLATION**"
      ]
    },
    {
      "cell_type": "code",
      "metadata": {
        "colab": {
          "base_uri": "https://localhost:8080/",
          "height": 197
        },
        "id": "-Epq-t7ti2cP",
        "outputId": "7af2b247-fa3c-4a22-e12f-5042ff6f5bc6"
      },
      "source": [
        "eng_trans = []\n",
        "for i in range(len(tamfile)):\n",
        "  eng_trans.append(indic2en_model.batch_translate(tamfile[i], 'ta', 'en'))"
      ],
      "execution_count": 4,
      "outputs": [
        {
          "output_type": "error",
          "ename": "NameError",
          "evalue": "ignored",
          "traceback": [
            "\u001b[0;31m---------------------------------------------------------------------------\u001b[0m",
            "\u001b[0;31mNameError\u001b[0m                                 Traceback (most recent call last)",
            "\u001b[0;32m<ipython-input-4-5918e93dc8fc>\u001b[0m in \u001b[0;36m<module>\u001b[0;34m()\u001b[0m\n\u001b[1;32m      1\u001b[0m \u001b[0meng_trans\u001b[0m \u001b[0;34m=\u001b[0m \u001b[0;34m[\u001b[0m\u001b[0;34m]\u001b[0m\u001b[0;34m\u001b[0m\u001b[0;34m\u001b[0m\u001b[0m\n\u001b[0;32m----> 2\u001b[0;31m \u001b[0;32mfor\u001b[0m \u001b[0mi\u001b[0m \u001b[0;32min\u001b[0m \u001b[0mrange\u001b[0m\u001b[0;34m(\u001b[0m\u001b[0mlen\u001b[0m\u001b[0;34m(\u001b[0m\u001b[0mtamfile\u001b[0m\u001b[0;34m)\u001b[0m\u001b[0;34m)\u001b[0m\u001b[0;34m:\u001b[0m\u001b[0;34m\u001b[0m\u001b[0;34m\u001b[0m\u001b[0m\n\u001b[0m\u001b[1;32m      3\u001b[0m   \u001b[0meng_trans\u001b[0m\u001b[0;34m.\u001b[0m\u001b[0mappend\u001b[0m\u001b[0;34m(\u001b[0m\u001b[0mindic2en_model\u001b[0m\u001b[0;34m.\u001b[0m\u001b[0mbatch_translate\u001b[0m\u001b[0;34m(\u001b[0m\u001b[0mtamfile\u001b[0m\u001b[0;34m[\u001b[0m\u001b[0mi\u001b[0m\u001b[0;34m]\u001b[0m\u001b[0;34m,\u001b[0m \u001b[0;34m'ta'\u001b[0m\u001b[0;34m,\u001b[0m \u001b[0;34m'en'\u001b[0m\u001b[0;34m)\u001b[0m\u001b[0;34m)\u001b[0m\u001b[0;34m\u001b[0m\u001b[0;34m\u001b[0m\u001b[0m\n",
            "\u001b[0;31mNameError\u001b[0m: name 'tamfile' is not defined"
          ]
        }
      ]
    },
    {
      "cell_type": "code",
      "metadata": {
        "colab": {
          "base_uri": "https://localhost:8080/"
        },
        "id": "IyKE5FXRkMD9",
        "outputId": "2f371b64-0a42-44d5-885c-a42b8a1a4fef"
      },
      "source": [
        "eng_trans"
      ],
      "execution_count": null,
      "outputs": [
        {
          "output_type": "execute_result",
          "data": {
            "text/plain": [
              "[[\"Saudi said that, fearing that if the mother's wish was frustrated, she would give up her affection for them and burn herself, the snakes discussed among themselves and decided to carry out her command.\",\n",
              "  'On the other hand, they said that if she received mercy, we would surely blacken the horses tail, in the hope that she would free them of the curse.',\n",
              "  'It is said that the snakes then went and became the tail feathers of the horse.',\n",
              "  \"The vassals, along with the best of the O Brahmins, Daksha's daughters and sisters, Kadru and Vidathai, rushed out of the sky to see the other side of the sea.\",\n",
              "  'As they walked along, they saw that the waterbody, which could not be easily shaken, was suddenly shaken by a strong wind and roared with a mighty roar.',\n",
              "  'They found the whales, the big fish, the crocodiles, the thousands of different creatures, the wild animals, the unapproachable deep, the mines of all kinds of gems, the home of Varuna, the home of the Nagas, the king of all rivers, the place of fire beneath the earth, the abode of the asuras, the home of all the terrible creatures, the water reservoir, the scent, the wonderful, the source of the first of the gods, the unmeasurable, the incomprehensible, the holy water, the full of the waters of thousands of great waters.',\n",
              "  'The two sea-sisters, who were as vast as the sky with the rippling waves, were quick to cross, deep, torrid by the fire beneath the earth, and cursing.'],\n",
              " ['Saudi said that after crossing the sea, Katru, with the help of his sister, got down near the horse.',\n",
              "  'They both found that the horse, one of the most rapidly moving horses, was as white as the moon, with black hair all over its body.',\n",
              "  'Pointing out that the horse had too many black hairs on its tail, Kathru made the extremely beleaguered reaction his slave.',\n",
              "  'She lost the race and was devastated to hear that she had entered into slavery.',\n",
              "  'At the same time, a man of his own will, capable of going where he thought he wanted, a man of great strength, a man of Gandhi and strength, when his time came, lit up all the dots of the universe and broke the egg without the help of his mother.',\n",
              "  'He shone fearfully with the light of a heap of fire.',\n",
              "  'The bird, with a lightning - like vision and Gandhi like the fire of the end of the era, grew faster as soon as he was born, enlarged his figure and flew in the sky.',\n",
              "  'He roared with rage and great emotion and looked like a second sea fire.',\n",
              "  'All the gods who saw him were frightened and sought protection from Vibhavas.',\n",
              "  \"And they bowed themselves to the image of the god that sat on his throne, and said these words, Fire, don't multiply your body, and will you swallow us up?\",\n",
              "  'Here, these large, conical threads are growing wider, he said.',\n",
              "  'It is not as you think, O fire, that oppresses the Asuras.',\n",
              "  'He is a huge guy.',\n",
              "  'He who is like me in the light is born to increase the joy of the powerful.',\n",
              "  'The brilliant light you see has caused this frenzy in you.',\n",
              "  'He is the destroyer of the Nagas, the great son of the Kashibar, and the benefactor of the gods, and the enemy of the Tahitians and the giants.',\n",
              "  'Dont worry about him.',\n",
              "  'He told the gods to come and see me.',\n",
              "  'You are the creator of all, the destroyer of all, the creator of all, the saviour of all, the lord of all, the lord of all, the Lord of all, the Lord of all, the Lord of all, the Lord of all, the Lord of all, the Lord of all, the Lord of all, the Lord of all, the Lord of all, the Lord of all, the God of all, the Lord of all, the Lord of all, the Lord of all, the Lord of all, the Lord of all, the Lord of all, the Lord of all, the Lord of all, the heavens and the earth, the Lord of all.',\n",
              "  'Thou art the spirit that beguileth us, the spirit that passeth by: thou art God unto the gods, thou art the great truth, the fear, the fear: thou art the immaculate Brahman, the power of the sun, the works of the will, thou art our saviour, the ocean of the gods, the holy man, the nature of darkness, the possessor of the six guns. thou art the maker of all things, the doer of wonders, the doer of all that is not, the discoverer of all that was not, the discoverer of all that is alive, the doer of all that is alive, the doer of all that is alive in us.',\n",
              "  'A Fiery Furnace a Flame!',\n",
              "  'You, O terrible one, who burns all flesh in the fire of the storm, as the sun in his wrath has consumed all flesh: you are the one that will not perish, though all flesh is consumed by fire.',\n",
              "  'O mighty one in the sky, we beg you for our safety.',\n",
              "  'Oh the birds!',\n",
              "  'You are the one who shines like a lightning, with the power beyond what is normal, and Gandhi like a fire, which does not approach darkness, and you touch the clouds, and you are the cause and cause, and you are the giver of gifts, and the invincible one, O God!',\n",
              "  'The world is heated up because of you, as gold that is woven in the lowest parts of the earth.',\n",
              "  'You shall save the gods of the spirits of the dead, which fly about in the earth in their carriages, for fear of you.',\n",
              "  'The best of the birds!',\n",
              "  'You are the Lord of all, the Son of the Merciful, the Supreme Soul, the Son of Gasibar, be merciful and not angry with the universe.',\n",
              "  'For you are the head of all, O God, lighten the anger, and save us.',\n",
              "  'With your voice, O bird, you make the ten points of the universe to tremble, and the heavens, and the earth, and our hearts to shake.',\n",
              "  'Let your body condense like fire.',\n",
              "  'When we see you with an angry Yamana-like Gandhi, we tremble at the loss of peace in our hearts.',\n",
              "  'Oh the birds!',\n",
              "  'Please grant us your mercy.',\n",
              "  'O Wonderful!',\n",
              "  'They prayed for our happiness and prosperity.',\n",
              "  'This beautiful bird, admired by the gods and sages, reduced its power and Gandhi.'],\n",
              " ['After hearing everything, the beautiful winged bird saw his body and shortened his figure.',\n",
              "  \"With that bird black, he said, Don't be afraid, I am shrinking my energy, because you are afraid of my terrible figure.\",\n",
              "  \"The Saudi continued, the bird was able to stay where it wanted without any hindrance and could increase its power to the desired extent, carrying Arunan on his back and following his father's house, he landed on the beach next to his mother on the other side of the ocean.\",\n",
              "  'But when the sun decided to burn the world with its own rays, he had placed the great Gandhian Arunan in the east.',\n",
              "  'Saunagar said, When did the appreciable sun decide to burn the worlds?',\n",
              "  'What did the gods do to provoke him to anger?',\n",
              "  \"In Manmadanathathathathathathathathathathathathathathathathathathathathathathathathathathathathathathathathathathathathathathathathathathathathathathathathathathathathathathathathathathathathathathathathathathathathathathathathathathathathathathathathathathathathathathathathathathathathathathathathathathathathathathathathathathathathathathathathathathathathathathathathathathathathathathathathathar's version, both listening and speaking by Brahmati.\",\n",
              "  'The Kumbakonam edition is similar to Ganguli.',\n",
              "  'This section is not there in the version of the Bibek Tibroy.',\n",
              "  'O Sins, O Sins, the Sun and the Moon have betrayed us by standing by the gods and drinking Amudha while crossing the Red Sea for Amudha.',\n",
              "  'From then on, he hated the gods.',\n",
              "  '\"He said,\" \"This hatred of Raghu starts from my desire to do good to the Gods.\"',\n",
              "  'I am the only one who benefits from it.',\n",
              "  'Actually, I didnt get any help at all.',\n",
              "  'I am going to be swallowed up in front of all the heavenly beings, and they are going to quietly allow this.',\n",
              "  '\"So I\\'m going to destroy the world.\" \"\"',\n",
              "  'From there he expressed his heat everywhere to destroy the world.',\n",
              "  'The great sages, who went to the gods, said that this great heat was to frighten every heart in the middle of the night and to destroy the three worlds.',\n",
              "  'Why is it that the gods, with their sages and sages, go to the great lord and this heat is increasing and terrifying?',\n",
              "  'The sun has not yet risen, but destruction is evident.',\n",
              "  'What happens if he does?',\n",
              "  'They said.',\n",
              "  'The Great Shepherd, Jehovah, is indeed preparing for the end of the present system of things.',\n",
              "  'As soon as he saw it, he burned it all to the ground.',\n",
              "  'I have already done that.',\n",
              "  'Everyone knows Arunan, the intelligent son of Kashibar.',\n",
              "  'With his big body, with great Gandhi, he stands in front of the sun and is his driver, taking away all the power of the former.',\n",
              "  '\"This action will ensure the good of the world and the good of the sages and the inhabitants of the world.\" \"\"',\n",
              "  'And the Saudis went on, and Arunan did according to the order of the Great Master all that he had to do.',\n",
              "  'The sun shone on Aruns body.',\n",
              "  'Why was I so angry?',\n",
              "  'How was his brother Arunan appointed as his charioteer?',\n",
              "  'I said that.',\n",
              "  'Ask the next question that you asked a while ago.'],\n",
              " [\"Saudi said that the mighty bird was free to go to any place of its choice and went to his mother's place and landed on the beach.\",\n",
              "  'There she lost the race and lived as a slave.',\n",
              "  'Once, Kathru called for a question.',\n",
              "  '\"When she fell down and got up, Kadru said in front of her son,\" \"Oh, there is a place in the middle of the sea, where no one can reach, where there are beautiful and delightful snakes.\" \"\"',\n",
              "  '\"Take me there.\" \"\"',\n",
              "  'With those words, the mother of the beautiful winged bird carried the mother of the snakes along.',\n",
              "  'At the behest of his mother, he picked up the snakes.',\n",
              "  'The star, who was born to Vindhya, immediately rose to the sun.',\n",
              "  'So the snakes were shot by the suns rays and fainted.',\n",
              "  'Seeing the condition of his nephews, Kadru implored Indra like this, I worship you.',\n",
              "  'Oh God!',\n",
              "  'I worship you, you who killed the prize!',\n",
              "  'I cherish you',\n",
              "  'O you that kill the moth, you that have a thousand eyes, you son of Zacchaeus, save those which are bitten by the sun with your dew.',\n",
              "  'O, the best of Gods!',\n",
              "  'You are our best friend',\n",
              "  'Oh priest!',\n",
              "  'You are the one who orders the rain in the season.',\n",
              "  'You are the gas, the cloud, the fire, the lightning in the sky, you are the scatterer of the clouds, you are the great cloud.',\n",
              "  'You are the unique, fearsome thunder and the roaring clouds.',\n",
              "  'You created the world and destroyed it.',\n",
              "  'You cant win.',\n",
              "  'You are the light of all living beings, Adithya, Vibhas, and the wonderful Gods.',\n",
              "  'You are the god of all gods.',\n",
              "  'You are Lord Vishnu!',\n",
              "  'You are God, you are the ultimate security.',\n",
              "  'O, God!',\n",
              "  'You are beautiful and noble.',\n",
              "  'You are the Moon, You are the Moon, You are the Moon.',\n",
              "  'You grow up and you grow up.',\n",
              "  'The fault is you, the cast is you, the art is you.',\n",
              "  'You are the year, the seasons are you, the months are you, the nights are you, the days are you.',\n",
              "  'You are a beautiful land, full of mountains and forests.',\n",
              "  'You are the sky that shines brightly.',\n",
              "  'You are an ocean full of waves, with creatures that eat whales, whales, and other fish in it.',\n",
              "  'You are the one who is admired by the sages and the wise.',\n",
              "  'You are the one who drinks the lethargy of scorpions, the pure ghee with spells, for the benefit of all living beings in the world.',\n",
              "  'You are the one who is always worshipped by Brahmins who desire the fruits of desire.',\n",
              "  'You are the One who is the Almighty, the One who is taught in the Scriptures and in the Scriptures.',\n",
              "  'You are the reason why the learned Brahmins always pray and study the Vedas with great interest.'],\n",
              " ['Saudi said that Indra, the god who had the best of horses on his chariot, after being worshiped like this by the Kadru, hid the sky with blue clouds and instructed the Ammas to sprinkle your holy droplets, which could not give life.',\n",
              "  'The clouds shone brightly, and the sky was overcast with clouds.',\n",
              "  'With those amazing, fearsome thunders and endless, heavy - laden clouds, the sky appeared as if the end of the age had arrived.',\n",
              "  'The rain was accompanied by strong winds, accompanied by thunder and lightning, and accompanied by lightning and thunder.',\n",
              "  'The sky was overcast with dark clouds.',\n",
              "  'Due to incessant rains, the rays of the sun and the moon disappeared completely.',\n",
              "  \"The snakes were very happy because of Indra's rain.\",\n",
              "  'The earth was filled with water, and clear, cool water flowed down to the surface.',\n",
              "  'The earth was filled with water.',\n",
              "  'The snakes and their mother reached the island of Ramayagamen.'],\n",
              " ['Saudis said, the snakes which were wet in the rain, were very happy after that.',\n",
              "  'The beautiful winged bird rushed to the island to carry itself.',\n",
              "  'The island was determined by the Creator of the universe as the location of the pollinators.',\n",
              "  'There they saw a terrible sea of salt.',\n",
              "  'Those who came with Garuda felt that there was a beautiful underwater forest on the seabed and that the music of the feathered musicians was everywhere.',\n",
              "  \"In the same way, we have been able to bring about a change in people's lives.\",\n",
              "  'There, clusters of trees were abundant with a variety of flowers and fruits.',\n",
              "  'There were beautiful palaces too.',\n",
              "  'It was also filled with lotus lakes.',\n",
              "  'There were many lakes with clean water.',\n",
              "  'There was excitement in the air because of the fresh air.',\n",
              "  'There were many trees that grew only in the Malayan hills.',\n",
              "  'They were tall enough to reach the sky.',\n",
              "  'In many other trees, their flowers fell and were spread beautifully with the help of a thistle.',\n",
              "  'In this way, the forest was beautiful, always pleasant and pleasant to the sages.',\n",
              "  'It was full of drunken beetles eating wine from flowers.',\n",
              "  'All these scenes have been very entertaining.',\n",
              "  'For many reasons, the forest was pleasing, beautiful, and sacred.',\n",
              "  \"Echoing the chants of many birds, it brought joy to Kadru's grandsons.\",\n",
              "  'The snakes came to the forest and spent their time happily.',\n",
              "  'Let them take us to some other beautiful, clean - water island, to the mighty King of the birds, Lord Karuna.',\n",
              "  'Since you did not fly, they commanded that you should have seen so many beautiful places while you were flying.',\n",
              "  '\"After thinking about it for some time, Garu asked his mother,\" \"Mother, why should I do all these snakes\\' commands?\" \"\"',\n",
              "  'When asked such a question, he said to his son, who is full of all virtues, power and strength, O best of all birds, I became a slave to my brother by my misfortune.',\n",
              "  'The snakes, she said, cheated, defeated the race, and put me in this situation.',\n",
              "  'Upon hearing his mother say this, the skydiver felt very distressed and asked the snakes, if I bring something, or if I gain knowledge about something, or if I do any heroic act, then tell me, we will be free from this slavery.',\n",
              "  'The Saudis continued, the snakes who heard this, bring amulet by your strength.',\n",
              "  'O bird, then you will be free from your bondage.'],\n",
              " ['Garudansouthi, who had said this to Vinaya, said, When the snakes say this, I go with Garuda to his mother and bring Amudha.',\n",
              "  'I want to eat something.',\n",
              "  'Please guide me.',\n",
              "  'In the distance, in the middle of the ocean, there is a beautiful dwelling place for Nishadars.',\n",
              "  'And you shall eat of the thousands of Nishad there, and you shall bring in the offering thereof.',\n",
              "  'But do not try to take the life of a Brahmin out of your mind.',\n",
              "  'In all living beings, the Brahmin should not be killed.',\n",
              "  'Hes like a fire.',\n",
              "  'When a Brahmin becomes angry, he becomes like a fire, or like the sun, or like a weapon with a sharp end, or like a poison.',\n",
              "  'It is said that Brahmin is the leader of all living beings.',\n",
              "  'For this and other reasons, Brahmin is praised among the moral people.',\n",
              "  'Therefore, it is not good to have animosity with Brahmins under any circumstances.',\n",
              "  'O my son!',\n",
              "  'If you are angry, do not kill Brahmins.',\n",
              "  'O mad one!',\n",
              "  'Even the sun and the fire cannot be extinguished, just as the anger of a Brahmin with severe fasts burns.',\n",
              "  'You can know a good Brahmin with many such references.',\n",
              "  'Brahman was born in every living being.',\n",
              "  'It comes in four colours.',\n",
              "  'He is the father of all living beings.',\n",
              "  'Oh mother!',\n",
              "  'What is the shape of a Brahmin?',\n",
              "  'What was his behaviour like?',\n",
              "  'What powers do they have?',\n",
              "  'Is he as bright as fire?',\n",
              "  'Or is he being cautious?',\n",
              "  'Oh mother, what are the best signs to identify a Brahmin?',\n",
              "  'You asked me to give an answer.',\n",
              "  'Question: Hi!',\n",
              "  'When you get into your throat, you will know that the one who causes you pain, like a fish being sawed or burning coal, is the best of the Brahmins.',\n",
              "  'You should not kill any Brahmin in anger.',\n",
              "  '\"Again, because of her love for her son, she said,\" \"Let him know who cannot be digested by your bowels to be a good Brahmin.\" \"\"',\n",
              "  'Disillusioned by snakes and devastated by grief, she blessed her son whole - souled, even though she knew of his unique strength.',\n",
              "  'Let Marudhan guard your wings, and let the sun and the moon guard your back.',\n",
              "  'The fire shall keep your head, the spears shall save your whole body.',\n",
              "  'I am here for your benefit.',\n",
              "  'O mad one!',\n",
              "  'She said, Go and do your work safely.',\n",
              "  'Saudi continued, and with the voice of his mother hearing these words, he stretched out his wings and climbed up into the sky.',\n",
              "  'The rich and hungry man hurried and fell on the Nishadas as if it were another building.',\n",
              "  'He wanted to kill the Nishadars, created a huge dust storm in the area and hid the sky.',\n",
              "  'He drew water from the sea, and shook the trees that grew on the mountains.',\n",
              "  'The king of the birds, with his mouth, closed the main gates of the city of the Nishadars and enlarged the gate.',\n",
              "  'The Nishadas ran in the direction of his open mouth, eating the snake with great speed.',\n",
              "  'Just as thousands of birds emerge from the wind-blown forest trees, the Nishadas, blinded by the dust of the storm, fell into the open to welcome them.',\n",
              "  'Then the chief of the astrologers (Garuda), who destroyed the enemy, who had great power, who was moving with great profit to complete his task, and who was hungry, (Garuda), closed his mouth and killed the innumerable fishermen who were doing the fishing.'],\n",
              " [\"Saudi continued, a Brahmin, with his wife, entered the applicant's throat.\",\n",
              "  'The former shot the bird in the throat like a firebrand.',\n",
              "  'When I open my mouth to you, go away quickly, O best of all Brahmins, with darkness to him.',\n",
              "  'No matter what sinister activities a Brahmin engaged in, he said, I should not have been killed.',\n",
              "  'When he said this, the Brahmin said, Oh, let this Nishat, my wife, also come out with me.',\n",
              "  '\"\" \"Then bring out with you that which is in the darkness (of night) a woman of the lowest (middle) age,\"',\n",
              "  'Take care of yourself without delay, as you are not yet digested by the heat of my bowels.',\n",
              "  'Saudi continued, after which the Brahmin came out with his wife of the Nishad caste and praised Garuda and went the way he wanted.',\n",
              "  'As soon as the Brahmin came out with his wife, the bird king, with his wings spread out, and Mano climbed up into the sky with speed.',\n",
              "  'Then she saw her father.',\n",
              "  'He spoke well to the impeccably talented black man he had been called.',\n",
              "  'O Great Sage!',\n",
              "  'You are fine?',\n",
              "  'Do you eat out everyday?',\n",
              "  'Do you get enough food in the world of humans?',\n",
              "  'He asked: Who of you by being anxious can add one cubit to his life span?',\n",
              "  'My mother is doing fine.',\n",
              "  'My brother and I are like that.',\n",
              "  \"But, Dad, I don't always get enough food.\",\n",
              "  'There is no peace in my heart.',\n",
              "  'I have been sent by serpents to bring a wonderful miracle.',\n",
              "  'To free my mother from slavery, I must bring it today.',\n",
              "  'In the Ramayana, Arunan is the father of Jatayu and Sampathi.',\n",
              "  'My mother ordered me to eat the nostrils.',\n",
              "  'I ate thousands of them.',\n",
              "  'But I wasnt rattled.',\n",
              "  'Therefore, O you worthy of praise, show me some other food, so that I may be strong enough to take the elixir of life.',\n",
              "  '\"\" \"Show me the right food to quench my hunger and thirst.\" \"\"',\n",
              "  'The lake you see near Casiapar Garuda is very sacred.',\n",
              "  \"This is known as God's religion.\",\n",
              "  'It has an elephant with its face downwards, constantly pulling its brother turtle.',\n",
              "  'Let me tell you in detail about the rivalry between the two of them from the beginning.',\n",
              "  'Listen carefully to explain why they are here.',\n",
              "  'Once upon a time there was a great saint named Vibhavasur.',\n",
              "  'He was very angry.',\n",
              "  'He had a younger brother.',\n",
              "  'He was not willing to share his wealth with his brother.',\n",
              "  'He was always talking about division.',\n",
              "  \"Some time later, Vibhavasur saw Supreggan and, out of his blind desire for wealth, it was foolish for humans to want to divide the ancestral wealth that came through his father's line.\",\n",
              "  'After the division of the inheritance, they continued to fight among themselves over the illusory illusions of wealth.',\n",
              "  'Then, under the guise of friends between the ignorant and the selfish, the enemies will point out the faults and create divisions, the conflict will become stronger, and the latter will fall one after the other.',\n",
              "  'The full extent of damage will soon reach the affected people.',\n",
              "  'For this reason, the wise do not approve of the split between brothers.',\n",
              "  'Such split - minded brothers reject official literature and live in fear of one another.',\n",
              "  'But Supratika, instead of accepting my advice, you are always interested in the division and want to arrange your personal wealth.',\n",
              "  'So he cursed him, saying, You shall be an elephant.',\n",
              "  'And the cursed man looked on Vibhavasur, and cursed him, and said to him, You shall pass over, you also, as a turtle that moves in the middle of the water.',\n",
              "  'Such foolish people as Suprathigan and Vibhavasur cursed each other due to their wealth and became elephants and goats respectively.',\n",
              "  'Their anger made them inferior animals.',\n",
              "  'They are proud of their wealth and their body weight and are constantly antagonistic to each other.',\n",
              "  'In this lake, the two large - bodied animals are walking in line with their ancestral enmity.',\n",
              "  'See here, one of them, this big - bodied elephant, is still approaching.',\n",
              "  \"An elephant with a large underwater body also comes out and blends violently with the lake, listening to the elephant's chirping.\",\n",
              "  'Upon seeing the turtle, the elephant turns its praise and runs into the water.',\n",
              "  'With great power, it mixes the water of the lake with the movement of its teeth, its praise, its tail, and its feet.',\n",
              "  'The powerful turtles also come forward to raise their heads and attack.',\n",
              "  'The elephant is six yojana in height and twice the circumference.',\n",
              "  'Turtle has a height of three yojanas and a circumference of ten yojanas.',\n",
              "  'Take these two men as food, ready to attack one another, and then do what you will.',\n",
              "  'And he said, Take and eat the wild beast, which looks like a mountain, and like a troop of thick clouds, and bring forth the quails.',\n",
              "  'The Saudis continued, saying to Karudan, Blessed be you when you fight with the gods.',\n",
              "  'Oh the chicken!',\n",
              "  'May the full Kumbh, the Brahmins, the cows and other holy things bless you.',\n",
              "  'O Wonderful!',\n",
              "  'When you are fighting with the gods, Rick, Yajur, Cham, and the sacred ghee and all the mysteries, may you be strengthened.',\n",
              "  'Thus, with Garh blessed by his father, he approached the lake.',\n",
              "  'He saw a variety of birds around the clean waters.',\n",
              "  \"The astronaut, who was quick to move, remembered his father's words and clung the elephant on one leg and the tortoise on the other.\",\n",
              "  'Then the bird flew high into the sky.',\n",
              "  'He reached the holy place of Alamba Tirtha, where he saw many divine trees.',\n",
              "  'With the wind blowing from his wings, the trees began to tremble with fear.',\n",
              "  'The trees with their golden branches were afraid that we might be broken.',\n",
              "  'Seeing the trees that gave him the desired gifts tremble with fear, the astronaut proceeded to search for other trees of outstanding appearance.',\n",
              "  'The great trees were branches of gold and silver, and fruit with precious stones.',\n",
              "  'They were washed away by the sea water.',\n",
              "  'When the king of the birds was approaching a big tree that had grown in such a huge quantity of trees, he said that the tree should sit on this big branch of mine with a hundred yojanas spread out and eat the elephant and the turtle.',\n",
              "  'As he sat on the branch of the banyan tree, which was full of leaves and home to thousands of winged creatures, he broke down.'],\n",
              " ['The Saudi continued, and as soon as he touched the mighty black hole with his foot, the branch of the tree broke.',\n",
              "  'He grabbed it.',\n",
              "  'With his eyes turned in wonder, he saw Valakilya sages hanging upside down from it and making mistakes.',\n",
              "  'Realizing that if the branch fell, the sages would be killed, the mighty hunter held the elephant and the tortoise tighter.',\n",
              "  'Fearing that the sages would be killed, and wanting to save them, he raised the branch with his sole and wings.',\n",
              "  'The great sages were amazed at this act of divinity and gave the mighty bird a name.',\n",
              "  'The valagilyars said that he was a snake-eater, the first of the birds to eat snakes, and that while carrying a heavy load, he should be known as a black man, as he grew up with his wings.',\n",
              "  'It is the name given to a gardener by the Vulgate.',\n",
              "  'What was his last name?',\n",
              "  'In another version, the name is given as Vainthein.',\n",
              "  'Vainthaiyan, meaning son of the sage, flew gently to the sky with the eagle, which shook the mountains with its wings.',\n",
              "  'As he climbed up with the elephant and the tortoise, he looked down at the various parts below.',\n",
              "  'He wanted to save the Waldenses and found no place to live.',\n",
              "  'Finally, he went to the top of the mountains, Mount Kandamata.',\n",
              "  'There he saw his father who was doing penance with dedication.',\n",
              "  'He saw the celestial being, the brightest, the most powerful, the most powerful, the fastest, the most impulsive, the tallest of the mountains, ready to strike like the curse of the Brahmin, the unintelligible, the unexplainable, the fear of all life, the mighty, the terrible, the sparkle of the fire, the impotent, the invincible, the mighty, the one who cannot be overcome by the gods, the demons, the mighty, the mighty, the mighty, the mighty, the great, the mighty, the mighty, the mighty, the great, the mighty, the mighty, the great, the mighty, the great, the mighty, the mighty, the great, the mighty, the great, the mighty, the mighty, the great, the mighty, the great, the mighty, the great, the great, the great, the great, the great, the great, the great, the great, the great',\n",
              "  'The famous gachiever, who noticed that he was getting close to him, knew his purpose and spoke.',\n",
              "  'Cashier, you fool!',\n",
              "  'Dont do anything irrational.',\n",
              "  'If you do, you will suffer.',\n",
              "  \"These valkyries, who are alive after drinking the sun's rays, will scatter you in anger.\",\n",
              "  '\"Saudi continued,\" \"In order to appease the gifted valkyars by burning their sins by the saintliness of the saintliness of the saintliness of the saintliness of the saintliness of the saintliness of the saintliness of the saintliness of the saintliness of the saintliness, the saintliness of the saintliness of the saintliness of the saintliness of the saintliness of the saintliness of the saintliness of the divine, the saintliness of the saintliness of the divine, the saintliness of the divine.\" \"',\n",
              "  'Its a very difficult job to achieve.',\n",
              "  'He asked for permission.',\n",
              "  'The Saudi continued, and the monks, who were requested by the famous leper, left the branch and went to the holy Himalayas to compose their penances.',\n",
              "  'When the sages left, the son of the question, holding the branch in his mouth and with a voice interrupted, said his father to Kashib, O great man!',\n",
              "  'Where do I throw the branch of this tree?',\n",
              "  'O Wonderful!',\n",
              "  \"Show me a part where there are no men. '\",\n",
              "  'Cassiodorus was referring to a mountain that was practically inaccessible to ordinary creatures, such as caverns, caverns, and snowcapped valleys.',\n",
              "  'The great eagle carried a branch, an elephant, and a tortoise and flew swiftly to the mountain.',\n",
              "  'Even if he had built the huge trunk of a tree with a hundred pieces of leather, he would not be able to build it around it.',\n",
              "  'With the King of Birds, Garuda flew hundreds of thousands of plans in a very short time.',\n",
              "  'The skydiver, in a second, followed his fathers direction and reached the mountain and dropped the giant branch.',\n",
              "  'It fell on the ground.',\n",
              "  'The Kumbakonam edition shows that the wire made of the skin of hundreds of cows is an old text.',\n",
              "  'The prince of those mountains was shaken by a storm that rose with the wings of the eagle.',\n",
              "  'Trees had been uprooted too.',\n",
              "  'The peaks, which adorned the mountain with jewels and gold, crumbled and fell on all sides.',\n",
              "  'The branch fell down, and it leapt on the trees with golden flowers in the middle of a bunch of dark leafy clusters, like lightening clouds.',\n",
              "  'The trees that glow like gold fell, were dyed with mountain metals, and shone as if they were bathed in the sun rays.',\n",
              "  'Then, with the best of the birds, black, sitting on the top of the mountain, he had an elephant and a tortoise, and left the mountain and flew at great speed.',\n",
              "  'Various evil omens appeared and frightened the gods.',\n",
              "  \"Indra's favourite diamond weapon shone in fear.\",\n",
              "  'The meteorites from the sky fell with fire and smoke during the day.',\n",
              "  'The weapons of the Vasus, the Rudras, the Aadiyas, the Sabaeans, the doctors and other gods have spent their power within themselves.',\n",
              "  'The Bible says: The world is passing away.',\n",
              "  'Such a thing has never happened even during the Devasura war.',\n",
              "  'Thousands of trees were uprooted and hundreds of houses were damaged.',\n",
              "  'Though the sky remained overcast, it was cloudy.',\n",
              "  'And God blessed the gods with blood.',\n",
              "  'The garlands around the neck of the gods were dried up and their heroism faded.',\n",
              "  'A terrible cloud hovered over them, and a heavy shower of blood fell upon them.',\n",
              "  'The dust from the breeze caused the crowns of the gods to fade and fade away.',\n",
              "  'To Brahaspati, who had performed a thousand pujas in the presence of the other gods in fear of these evil obstacles, O worthy of worship, why did these natural calamities arise suddenly?',\n",
              "  'I dont see any enemy in the war.',\n",
              "  'Brahaspati, O Lord of the Gods, O the one who has performed a thousand prayers, all this is due to your mistake, inattention and the spiritual mistake of the great Valakilya saints.',\n",
              "  'The son of Cassiper and Vinathai, who is a very powerful astronaut and just as soon as he thinks of the image, is about to take Soma away.',\n",
              "  'That bird, one of the most powerful creatures in the universe, can draw fatigue from you.',\n",
              "  'He can do it all.',\n",
              "  'He can achieve what he cannot.',\n",
              "  'Saudis continued, and upon hearing these words, Indra, from the guards who guard Amudha, plans to seize Amudha, a bird of great strength and power.',\n",
              "  'He should not spoil it.',\n",
              "  'So I warn you in advance.',\n",
              "  '\"\" \"He has immense power,\" \"Brahaspati said.\"',\n",
              "  'The gods were surprised to hear this and took safety measures.',\n",
              "  'They stood around the corner.',\n",
              "  'Indra, a great warrior and diamond merchant, also stood with them.',\n",
              "  'The gods wore golden armour with jewels of great value, and armlets of solid and shiny skin.',\n",
              "  'The mighty gods put on a variety of weapons, many of them sharp and fearsome.',\n",
              "  'All those uncountable weapons blazed fire engines and smoke.',\n",
              "  'They wore many wheels, iron rods with pointed ends, trident and war axes, various types of sharp knives, bright swords, and machetes of brutal shapes.',\n",
              "  'The gods waited there, wearing bright weapons and divine ornaments, illuminating their fears.',\n",
              "  'The gods, with their matchless strength, power, and brightness, decided to protect Amurtha.',\n",
              "  'They looked like fire, having the power to destroy the cities of the Asuras.',\n",
              "  'Since the gods stood there with hundreds of thousands of iron stories with pointed ends, the place was like another sky brightened by the rays of the sun.'],\n",
              " ['O Son of Man!',\n",
              "  '\"\" \"What was India\\'s mistake?\"',\n",
              "  'What did he do wrong?',\n",
              "  'How was the birth of the black child the result of the apocalypse?',\n",
              "  'How did Casiaphas come to have the king of the birds as his son?',\n",
              "  'How is he invincible and indestructible?',\n",
              "  'How can the skydiver reach the desired destination and reach the desired destination?',\n",
              "  'If these details are in the Puranas, I would like to hear them.',\n",
              "  'And what you ask for, Saudi, you ask for it is actually in the Puranas.',\n",
              "  \"Oh, baby, listen, I'll tell you everything in detail.\",\n",
              "  'Once upon a time, Gasibar, the leader of living creatures, prayed for a son, and he was helped by sages, gods, and Gandharvas.',\n",
              "  'Casiapar commissioned Indra, as well as the monks Valkyrie and other gods, to help him bring the fuel needed for the procession.',\n",
              "  'Lord Indra carried the heavy burden of the mountain according to his strength without any difficulty.',\n",
              "  'On the way, he saw that all the saints of Valagilya, who had the size of a thumb, were carrying a stick of palazza leaves.',\n",
              "  'The sages were very thin without food, and their bodies were hidden inside their bodies.',\n",
              "  'They were so weak that they had to struggle so much as to drown in the stagnant water in a ditch caused by cattle hooves on the way.',\n",
              "  'The prodigal took pride in his power and not only went over their heads, but also looked at them and laughed at them.',\n",
              "  'With great anger and sorrow, these disgraced sages arranged a big procession and frightened Indra.',\n",
              "  'Even today, being overstep our limits is viewed as an act of disrespect.',\n",
              "  'Oh priest!',\n",
              "  '\"Those sages who listen, who fast to fulfill their wishes, who are wise and noble, leave pure ghee and shout,\" \"May there be another Indra who can go to any place of his choice, who can reach the desired level of power, who can give fear to the Lord of the existing gods.\" \"\"',\n",
              "  'And let anyone thirsting come. let anyone that wishes take lifes water free. Let anyone that wishes take lifes water free.',\n",
              "  'And the chief of the gods, which heard it, and made a thousand fasts, sought refuge with a man of fasting, and was sore afraid.',\n",
              "  'Speed like mind means unmeasured speed.',\n",
              "  'We remember the sun from here.',\n",
              "  'It means that our mind has reached the Sun.',\n",
              "  'This is an unbelievable feeling.',\n",
              "  'Kashibar, the Prajapati king, asked for everything from Indra and went to the Valakilyars and asked if their mission was successful.',\n",
              "  'Those sages who are telling the truth, let it happen as you say.',\n",
              "  'Kashibar, the lord of the kingdom, calmed them and by the words of Brahma, he was appointed the chief of the gods in all the three worlds.',\n",
              "  'Monks, you too are trying to produce another Indra!',\n",
              "  'Excellencies, it is best for you not to deny the words of Lord Brahma.',\n",
              "  'Your efforts should not go in vain.',\n",
              "  'Let one appear as Indra to the rich and winged creatures.',\n",
              "  'Have mercy on this Indra who is bowing before you.',\n",
              "  'This request was made by the Gachibowli, and they began to speak to Prajapati Kashiyar, the chief of the sages, with respect.',\n",
              "  'Those vultures, oh Prajapati!',\n",
              "  'This wave is being conducted by all of us for a Indra!',\n",
              "  'In fact, he was born as your son.',\n",
              "  'We leave it to you.',\n",
              "  'They said that they would do whatever was good and right in the matter.',\n",
              "  'Then, because of her desire for children, her fasts were over, she bathed herself, and when the time came for relationship to bear fruit, she approached her leader.',\n",
              "  'The cacieber told her, Respectfully, that I had done my turn, and now it has borne fruit.',\n",
              "  'You will get what you want.',\n",
              "  'You will have two sons who will be the heads of the three worlds.',\n",
              "  'He said that with the pure purpose of my Velvi and the penance of the valagilyars, those sons will be highly respected and worthy of worship by the world.',\n",
              "  'The renowned cashier once again asked her to carry these holy seeds with utmost care.',\n",
              "  'These two are the leaders of all living beings.',\n",
              "  'He said that these brave astronauts, who will reach their intended destination in time, will be respected by all three worlds.',\n",
              "  'Satisfied with what had happened, Prajapati prayed a thousand times to Indra, and you will get two brothers of great strength and courage to help you.',\n",
              "  'They will not harm you.',\n",
              "  'Let your grief be over and you will be the leader of everyone.',\n",
              "  'Never again, never underestimate those who pronounce the name of Lord Brahma.',\n",
              "  'He advised them not to insult those who speak such words as wrath and thunder.',\n",
              "  'Upon hearing this, Indra gave up his fear and went to Devalogam.',\n",
              "  'She was very happy with what she had achieved.',\n",
              "  'She bore him two sons, Arunan and Garudan.',\n",
              "  'Arun, who was born with a bad body, stood as a driver for the sun.',\n",
              "  'Garudon was given the leadership of the birds.',\n",
              "  'Oh my goodness!',\n",
              "  \"He will listen carefully to Garudan's major achievements.\"]]"
            ]
          },
          "metadata": {},
          "execution_count": 68
        }
      ]
    },
    {
      "cell_type": "markdown",
      "metadata": {
        "id": "T-QL21Q0af5X"
      },
      "source": [
        "# **SCORES**"
      ]
    },
    {
      "cell_type": "code",
      "metadata": {
        "id": "Afo3vSardqKy",
        "colab": {
          "base_uri": "https://localhost:8080/"
        },
        "outputId": "1fed2742-4f3a-4408-ebdf-29644120e029"
      },
      "source": [
        "eng = open(\"/content/Mahabharatha-Adiparva-Section22-en.txt\", \"r\")\n",
        "eng_data = eng.read()\n",
        "eng_data = re.sub(\"['\\n]\", \"\", eng_data)\n",
        "a = eng_data.split(\".\")\n",
        "a"
      ],
      "execution_count": null,
      "outputs": [
        {
          "output_type": "execute_result",
          "data": {
            "text/plain": [
              "['SECTION XXII(Astika Parva continued)\"Sauti said, The Nagas after consultation arrived at the conclusion that they should do their mothers bidding, for if she failed in obtaining her desire she might withdraw her affection and burn them all',\n",
              " ' If, on the other hand, she were graciously inclined, she might free them from her curse',\n",
              " ' They said, We will certainly renderthe horses tail black',\n",
              " ' And it is said that they then went and became hairs in the horses tail',\n",
              " ' \"Now the two co-wives had laid the wager',\n",
              " ' And having laid the wager, O best of Brahmanas, the two sisters Kadru and Vinata, the daughters of Daksha, proceeded in great delight along the sky to see the other side of the Ocean',\n",
              " ' And on their way they saw the Ocean, that receptacle of waters, incapable of being easily disturbed, mightily agitated all of a sudden by the wind, and roaring tremendously; abounding with fishes capable of swallowing the whale and full of makaras; containing also creatures of diverse forms counted by thousands; frightful from the presence of horrible monsters, inaccessible, deep, and terrible, the mine of all kinds of gems, the home of Varuna (the water-god), the wonderful habitations of the Nagas, the lord of rivers, the abode of the subterranean fire; the residence of the Asuras and of many dreadful creatures; the reservoir of water, not subject to decay, aromatic, and wonderful, the great source of the amrita of the celestials; immeasurable and inconceivable, containing waters that are holy, filled to the brim by many thousands of great rivers, dancing as it were in waves',\n",
              " ' Such was the Ocean, full of rolling waves, vast as the expanse of the sky, deep, of body lighted with the flames of subterranean fire, and roaring, which the sisters quickly passed over',\n",
              " '\"And so ends the twenty-second section in the Astika Parva of the Adi Parva',\n",
              " '']"
            ]
          },
          "metadata": {},
          "execution_count": 80
        }
      ]
    },
    {
      "cell_type": "code",
      "metadata": {
        "id": "Glhi1Km0a4IA"
      },
      "source": [
        "hyp = str(eng_trans).split()\n",
        "ref_a = str(engfile).split()"
      ],
      "execution_count": null,
      "outputs": []
    },
    {
      "cell_type": "code",
      "metadata": {
        "colab": {
          "base_uri": "https://localhost:8080/",
          "height": 188
        },
        "id": "-D7gvhF5gGKz",
        "outputId": "5dfb750a-53f8-41f2-909d-2c710cd6b82a"
      },
      "source": [
        "eng_data"
      ],
      "execution_count": null,
      "outputs": [
        {
          "output_type": "execute_result",
          "data": {
            "application/vnd.google.colaboratory.intrinsic+json": {
              "type": "string"
            },
            "text/plain": [
              "'SECTION XXII(Astika Parva continued)\"Sauti said, The Nagas after consultation arrived at the conclusion that they should do their mothers bidding, for if she failed in obtaining her desire she might withdraw her affection and burn them all. If, on the other hand, she were graciously inclined, she might free them from her curse. They said, We will certainly renderthe horses tail black. And it is said that they then went and became hairs in the horses tail. \"Now the two co-wives had laid the wager. And having laid the wager, O best of Brahmanas, the two sisters Kadru and Vinata, the daughters of Daksha, proceeded in great delight along the sky to see the other side of the Ocean. And on their way they saw the Ocean, that receptacle of waters, incapable of being easily disturbed, mightily agitated all of a sudden by the wind, and roaring tremendously; abounding with fishes capable of swallowing the whale and full of makaras; containing also creatures of diverse forms counted by thousands; frightful from the presence of horrible monsters, inaccessible, deep, and terrible, the mine of all kinds of gems, the home of Varuna (the water-god), the wonderful habitations of the Nagas, the lord of rivers, the abode of the subterranean fire; the residence of the Asuras and of many dreadful creatures; the reservoir of water, not subject to decay, aromatic, and wonderful, the great source of the amrita of the celestials; immeasurable and inconceivable, containing waters that are holy, filled to the brim by many thousands of great rivers, dancing as it were in waves. Such was the Ocean, full of rolling waves, vast as the expanse of the sky, deep, of body lighted with the flames of subterranean fire, and roaring, which the sisters quickly passed over.\"And so ends the twenty-second section in the Astika Parva of the Adi Parva.'"
            ]
          },
          "metadata": {},
          "execution_count": 84
        }
      ]
    },
    {
      "cell_type": "code",
      "metadata": {
        "id": "cEmunf8JgJOn"
      },
      "source": [
        "eng_trans"
      ],
      "execution_count": null,
      "outputs": []
    },
    {
      "cell_type": "code",
      "metadata": {
        "colab": {
          "base_uri": "https://localhost:8080/"
        },
        "id": "Xd0jVD8FckXa",
        "outputId": "4ff1300d-ec26-4db2-a2c6-1b9623586ee0"
      },
      "source": [
        "score_ref_a = bleu.sentence_bleu([ref_a], hyp)\n",
        "print(\"Hyp and ref_a are the same: {}\".format(score_ref_a))"
      ],
      "execution_count": null,
      "outputs": [
        {
          "output_type": "stream",
          "name": "stdout",
          "text": [
            "Hyp and ref_a are the same: 0.09571621092332751\n"
          ]
        }
      ]
    },
    {
      "cell_type": "code",
      "metadata": {
        "colab": {
          "base_uri": "https://localhost:8080/"
        },
        "id": "i2UL4P916vtn",
        "outputId": "1cdb1d20-3478-4620-ecb7-c2dc52ae31de"
      },
      "source": [
        "import nltk.translate.gleu_score as gleu\n",
        "score_1to4grams = gleu.sentence_gleu([ref_a], hyp, min_len=1, max_len=2)\n",
        "print(\"1 to 4 grams: {}\".format(score_1to4grams))"
      ],
      "execution_count": null,
      "outputs": [
        {
          "output_type": "stream",
          "name": "stdout",
          "text": [
            "1 to 4 grams: 0.2992125984251969\n"
          ]
        }
      ]
    },
    {
      "cell_type": "code",
      "metadata": {
        "id": "2rhLJbL36xWX"
      },
      "source": [
        ""
      ],
      "execution_count": null,
      "outputs": []
    }
  ]
}