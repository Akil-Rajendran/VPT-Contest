{
  "nbformat": 4,
  "nbformat_minor": 0,
  "metadata": {
    "colab": {
      "name": "venmurasu programming.ipynb",
      "provenance": [],
      "include_colab_link": true
    },
    "kernelspec": {
      "name": "python3",
      "display_name": "Python 3"
    },
    "language_info": {
      "name": "python"
    }
  },
  "cells": [
    {
      "cell_type": "markdown",
      "metadata": {
        "id": "view-in-github",
        "colab_type": "text"
      },
      "source": [
        "<a href=\"https://colab.research.google.com/github/Akil-Rajendran/VPT-Contest/blob/main/evaluation.ipynb\" target=\"_parent\"><img src=\"https://colab.research.google.com/assets/colab-badge.svg\" alt=\"Open In Colab\"/></a>"
      ]
    },
    {
      "cell_type": "markdown",
      "metadata": {
        "id": "deRLtPehHeDG"
      },
      "source": [
        "# **IMPORTING REQUIRED LIBRARIES**"
      ]
    },
    {
      "cell_type": "code",
      "metadata": {
        "id": "eDlgVnyVqjV4",
        "outputId": "cb6e0ba8-db36-4c6f-f6b7-229f4752465e",
        "colab": {
          "base_uri": "https://localhost:8080/"
        }
      },
      "source": [
        "pip install Open-Tamil"
      ],
      "execution_count": 6,
      "outputs": [
        {
          "output_type": "stream",
          "name": "stdout",
          "text": [
            "Requirement already satisfied: Open-Tamil in /usr/local/lib/python3.7/dist-packages (1.0)\n"
          ]
        }
      ]
    },
    {
      "cell_type": "code",
      "metadata": {
        "id": "8rmI-chMHnOE",
        "outputId": "33d79bef-9b86-4a6d-dda9-d68371716cb7",
        "colab": {
          "base_uri": "https://localhost:8080/"
        }
      },
      "source": [
        "import os\n",
        "import re \n",
        "from tamil import utf8\n",
        "import nltk\n",
        "nltk.download('punkt')"
      ],
      "execution_count": 7,
      "outputs": [
        {
          "output_type": "stream",
          "name": "stdout",
          "text": [
            "[nltk_data] Downloading package punkt to /root/nltk_data...\n",
            "[nltk_data]   Package punkt is already up-to-date!\n"
          ]
        },
        {
          "output_type": "execute_result",
          "data": {
            "text/plain": [
              "True"
            ]
          },
          "metadata": {},
          "execution_count": 7
        }
      ]
    },
    {
      "cell_type": "code",
      "metadata": {
        "id": "38OOyFXs1yZp"
      },
      "source": [
        "from nltk.tokenize import sent_tokenize"
      ],
      "execution_count": 8,
      "outputs": []
    },
    {
      "cell_type": "code",
      "metadata": {
        "id": "jDfGSI8Nz0Po"
      },
      "source": [
        ""
      ],
      "execution_count": 8,
      "outputs": []
    },
    {
      "cell_type": "markdown",
      "metadata": {
        "id": "k6_TMAs11QOH"
      },
      "source": [
        "# **PREPROCESSING THE RAW DATA**"
      ]
    },
    {
      "cell_type": "code",
      "metadata": {
        "id": "-EjYW92OpPoU",
        "colab": {
          "base_uri": "https://localhost:8080/"
        },
        "outputId": "f6ff3180-73da-4351-966f-16e62fab94cc"
      },
      "source": [
        "from google.colab import drive\n",
        "drive.mount('/content/drive')"
      ],
      "execution_count": 4,
      "outputs": [
        {
          "output_type": "stream",
          "name": "stdout",
          "text": [
            "Mounted at /content/drive\n"
          ]
        }
      ]
    },
    {
      "cell_type": "markdown",
      "metadata": {
        "id": "n_WkFwpNHs1y"
      },
      "source": [
        "### **FUNCTON FOR CLEANING**\n"
      ]
    },
    {
      "cell_type": "code",
      "metadata": {
        "id": "X50MlmbVCPgm"
      },
      "source": [
        "def clean(data):\n",
        "  string = re.split(\"[\\n\\.]\",data)\n",
        "  arr = []\n",
        "\n",
        "  for i in string:\n",
        "    if re.search(\"Parva\", i):\n",
        "      continue\n",
        "    arr.append(i)\n",
        "\n",
        "  string = \".\".join(arr)\n",
        "  string = re.sub(\"(\\(?SECTION\\s*[IVXLC]+\\)?)|(p\\.\\s+\\d+)|(if)|(Footnotes)|(\\\")|(\\')\", \"\", string)\n",
        "  string = re.sub(\"\\{.*?\\}\", \"\", string)\n",
        "  string = re.sub(\"\\(.*?\\)\", \"\", string)\n",
        "  string.replace('i\\.e\\.,-\\n',\"\")\n",
        "\n",
        "  return string"
      ],
      "execution_count": 74,
      "outputs": []
    },
    {
      "cell_type": "markdown",
      "metadata": {
        "id": "YpHQN-eRfvr-"
      },
      "source": [
        "### **RETRIEVING TEXTS FROM DRIVE**"
      ]
    },
    {
      "cell_type": "code",
      "metadata": {
        "id": "yEIg3KNZ1bzS"
      },
      "source": [
        "def openfile(i, lang):\n",
        "  temp = []\n",
        "  file = []\n",
        "  if lang == 'en':\n",
        "    with open(\"/content/drive/MyDrive/resources/Mahabharatha-Adiparva-Section\" + str(i) + \"-en.txt\", \"r\", encoding='utf8') as tam:\n",
        "      temp = tam.read()\n",
        "    file.append(clean(temp))\n",
        "    \n",
        "  elif lang == 'ta':\n",
        "    with open(\"/content/drive/MyDrive/resources/Mahabharatha-Adiparva-Section\" + str(i) + \"-ta.txt\", \"r\") as en:\n",
        "      temp = en.read()\n",
        "    file.append(clean(temp))\n",
        "  return file"
      ],
      "execution_count": 75,
      "outputs": []
    },
    {
      "cell_type": "code",
      "metadata": {
        "id": "8S7Ucr4NzxSv"
      },
      "source": [
        "english = openfile(27, 'en')\n",
        "tamil = openfile(27, 'ta')"
      ],
      "execution_count": 136,
      "outputs": []
    },
    {
      "cell_type": "code",
      "metadata": {
        "id": "XXouWW3A65KI",
        "outputId": "44ab77e2-7c6e-4ffc-aff1-015a3225b4f0",
        "colab": {
          "base_uri": "https://localhost:8080/"
        }
      },
      "source": [
        "tamil"
      ],
      "execution_count": 77,
      "outputs": [
        {
          "output_type": "execute_result",
          "data": {
            "text/plain": [
              "['சௌதி சொன்னார், மழையில் நனைந்த பாம்புகள், அதன்பிறகு மிகவும் மகிழ்ந்திருந்தன. அந்த அழகான இறகுகள் கொண்ட பறவையானவன்  தங்களைச் சுமந்து செல்ல விரைவாகத் தீவை அடைந்தனர். அந்தத் தீவு, மகரங்களின் இருப்பிடமாக, அண்டம் படைத்தோனால் தீர்மானிக்கப்பட்டிருந்தது. அங்கே அவர்கள் பயங்கரமான லவணச் சமுத்திரத்தைக்  கண்டனர். கருடனுடன் வந்தவர்கள் அங்கே நீரால் சுத்தம் செய்யப்பட்ட ஓர் அழகான காடு கடலின் மடியில் இருந்ததையும், இறகுகள் கொண்ட இசைக்கலைஞர்களின்  இன்னிசை எங்கும் நிறைந்து இருந்ததையும் உணர்ந்தனர்.  அக்கானகத்தில் கருடனுடன் அப்பாம்புகள் வந்திறங்கினர். அங்கே, கொத்துக் கொத்தாக மரங்கள் பலவகைப்பட்ட மலர்களுடனும் பழங்களுடனும் நிறைந்து இருந்தன..அழகான மாளிகைகளும் அங்கு நிறைந்திருந்தன. தாமரை நிறைந்த தடாகங்களாலும் நிறைந்திருந்தன. சுத்தமான நீர் கொண்ட பல ஏரிகள் அங்கு இருந்தன. அங்குத் தவழ்ந்த சுத்தமணங்கொண்ட தென்றலால் உற்சாகம் நிலவியது. மலய மலையில் மட்டுமே விளையும் பல மரங்கள் அங்கே இருந்தன. அவற்றின் உயரங்கள் விண்ணை முட்டும் அளவுக்கு இருந்தன. இன்னும் பல மரங்களில், அவற்றின் மலர்கள் உதிர்ந்து தென்றலின் உதவியால் அழகாகப் பரவிக் கிடந்தன. இப்படி அந்தக் கானகம் அழகாகவும், கந்தர்வர்களுக்கு எப்போதும் இன்பத்தைத் தருவதாகவும், விருப்பமானதாகவும் இருந்தது. அது  மலர்களில் இருந்து மதுவை உண்டு மதிமயங்கிய வண்டுகளால் நிறைந்திருந்தது. இந்தக் காட்சிகள் அனைத்தும் பெரும் மகிழ்ச்சியைத் தந்தன.. பல விஷயங்களால் அந்தக் கானகம் அனைவரையும் மகிழ்ச்சிப்படுத்துவதாகவும், அழகாகவும், புனிதமானதாகவும் இருந்தது. பல பறவைகளின் மெல்லிசைகளை எதிரொலித்த அது கத்ருவின் மைந்தர்களுக்கு மகிழ்ச்சியை அளித்தது. அந்தப் பாம்புகள் அந்தக் காட்டிற்கு வந்து மகிழ்ச்சியாகத் தங்கள் பொழுதைக் கழித்தன. பறவைகளின் மன்னனான சக்தி நிறைந்த கருடனிடம், அவை , வேறு ஏதேனும் அழகான, சுத்தமான நீர் நிறைந்த தீவுக்கு எங்களை அழைத்துச் செல்வாயாக. நீ விண்ணோடியாதலால், அப்படிப்  பறக்கும்போது நிறைய அழகான இடங்களைக் கண்டிருப்பாயே என்று கட்டளையிட்டனர்..கருடன் சிறிது நேரம் சிந்தித்துவிட்டு தனது தாய் வினதையிடம், “தாயே, இந்தப் பாம்புகளின் உத்தரவுகளை எல்லாம் நான் ஏன் நிறைவேற்ற வேண்டும்?” என்று கேட்டான்..இப்படிக்கேட்கப்பட்ட வினதை, விண்ணோடியும், அனைந்து அறங்களும் நிறைந்தவனும், பெரும் சக்தியும், பலமும் கொண்டவனுமான தன் மகனிடம் , ஓ பறவைகளில் சிறந்தவனே, என் கெடுபேறால்  நான் எனது சக்களத்தியிடம் அடிமையானேன். அந்தப் பாம்புகள், ஏமாற்று வேலை செய்து, பந்தயத்தில் தோற்கடித்து, என்னை இந்த நிலைமைக்கு ஆளாக்கின என்றாள் . தனது தாய் இப்படிக் கூறியதைக் கேட்டு, அந்த விண்ணோடி  மிகவும் துன்புற்று, அந்தப் பாம்புகளிடம், பாம்புகளே, நான் எந்தப் பொருளைக் கொண்டுவந்தால், அல்லது எந்தப் பொருளைப் பற்றிய அறிவை அடைந்தால், அல்லது எந்த வீரச் செயலைச் செய்தால், இந்த அடிமைத்தனத்திலிருந்து நாங்கள் விடுபடுவோம், சொல்லுங்கள் என்று கேட்டான்..சௌதி தொடர்ந்தார், இதைக் கேட்ட பாம்புகள், உனது பலத்தால் அமுதத்தைக் கொண்டு வா. ஓ பறவையே , அப்போது நீங்கள் உங்கள் அடிமைத்தனத்திலிருந்து விடுதலை பெறுவீர்கள் என்றன ”..']"
            ]
          },
          "metadata": {},
          "execution_count": 77
        }
      ]
    },
    {
      "cell_type": "code",
      "metadata": {
        "id": "55m58KvK_HUe",
        "outputId": "1e514cf3-b696-487c-a7e3-23bef52cad12",
        "colab": {
          "base_uri": "https://localhost:8080/"
        }
      },
      "source": [
        "english"
      ],
      "execution_count": 68,
      "outputs": [
        {
          "output_type": "execute_result",
          "data": {
            "text/plain": [
              "['Sauti said, And then the Nagas drenched by that shower, became exceedingly glad And borne by that bird of fair feathers, they soon arrived at the island That island had been fixed by the Creator of the Universe as the abode of the makaras There they saw the terrible Lavana Samudra  On arriving there with Garuda, they saw there a beautul forest washed by the waters of the sea and resounding with the music of winged choirs And there were clusters of trees all around laden with various fruits and flowers And there were also fair mansions all around; and many tanks full of lotuses And it was also adorned with many lakes of pure water And it was refreshed with pure incense-breathing breezes And it was adorned with many a tree that grew only on the hills of Malaya, and seemed by their tallness to reach the very heavens And there were also various other trees whose flowers were scattered all around by the breeze And that forest was charming and dear to the Gandharvas and always gave them pleasure And it was full of bees maddened with the honey they sucked And the sight of all this was exceedingly delightful And in consequence of many things there, capable of charming everybody, that forest was fair, delightful, and holy And, echoing with the notes of various birds, it delighted greatly the sons of KadruAnd the snakes, after arriving at that forest, began to enjoy themselves And they commanded the lord of birds, viz, Garuda, of great energy, saying,p 70[paragraph continues] Convey us to some other fair island with pure water Thou ranger of the skies, thou must have seen many fair regions while coursing  Garuda, alter reflecting for a few moments, asked his mother Vinata, saying, Why, mother, have I to do the bidding of the snakes? Vinata thus questioned by him spake unto that ranger of the skies, her son, invested with every virtue, of great energy, and great strength, as follows: Vinata said, O thou best of birds, I have become, from misfortune, the slave of my co-we The snakes, by an act of deception, caused me to lose my bet and have made me so When his mother had told him the reason, that ranger of the skies, dejected with grief, addressed the snakes, saying, Tell me, ye snakes, by bringing what thing, gaining a knowledge of what thing, or doing what act of prowess, we may be freed from this state of bondage to you Sauti continued, The snakes, hearing him, said, Bring thou amrita by force Then O bird, shall you be freed from bondage']"
            ]
          },
          "metadata": {},
          "execution_count": 68
        }
      ]
    },
    {
      "cell_type": "markdown",
      "metadata": {
        "id": "biZFzk6Gr5Fm"
      },
      "source": [
        "# **MODEL INSTALLATION AND TRAINING**"
      ]
    },
    {
      "cell_type": "code",
      "metadata": {
        "id": "98cE7aXEdlgQ"
      },
      "source": [
        "# clone the repo for running evaluation\n",
        "!git clone https://github.com/AI4Bharat/indicTrans.git\n",
        "%cd indicTrans\n",
        "# clone requirements repositories\n",
        "!git clone https://github.com/anoopkunchukuttan/indic_nlp_library.git\n",
        "!git clone https://github.com/anoopkunchukuttan/indic_nlp_resources.git\n",
        "!git clone https://github.com/rsennrich/subword-nmt.git\n",
        "%cd .."
      ],
      "execution_count": null,
      "outputs": []
    },
    {
      "cell_type": "code",
      "metadata": {
        "id": "rNf2Hbk4fZEi"
      },
      "source": [
        "# Install the necessary libraries\n",
        "!pip install sacremoses pandas mock sacrebleu tensorboardX pyarrow indic-nlp-library\n",
        "! pip install mosestokenizer subword-nmt\n",
        "# Install fairseq from source\n",
        "!git clone https://github.com/pytorch/fairseq.git\n",
        "%cd fairseq\n",
        "# !git checkout da9eaba12d82b9bfc1442f0e2c6fc1b895f4d35d\n",
        "!pip install --editable ./\n",
        "\n",
        "%cd .."
      ],
      "execution_count": null,
      "outputs": []
    },
    {
      "cell_type": "code",
      "metadata": {
        "id": "YPFf4dq0gyiW"
      },
      "source": [
        "from fairseq import checkpoint_utils, distributed_utils, options, tasks, utils"
      ],
      "execution_count": 1,
      "outputs": []
    },
    {
      "cell_type": "code",
      "metadata": {
        "id": "V7y3qNOahlV5"
      },
      "source": [
        "# downloading the indic-en model\n",
        "!wget https://storage.googleapis.com/samanantar-public/V0.2/models/indic-en.zip\n",
        "!unzip indic-en.zip\n",
        "\n",
        "%cd indicTrans"
      ],
      "execution_count": null,
      "outputs": []
    },
    {
      "cell_type": "code",
      "metadata": {
        "id": "pqhbnGHUhqbO"
      },
      "source": [
        "from indicTrans.inference.engine import Model\n",
        "\n",
        "indic2en_model = Model(expdir='../indic-en')"
      ],
      "execution_count": null,
      "outputs": []
    },
    {
      "cell_type": "markdown",
      "metadata": {
        "id": "ubQkigSmYBGH"
      },
      "source": [
        "# **MACHINE TRANSLATION**"
      ]
    },
    {
      "cell_type": "code",
      "metadata": {
        "colab": {
          "base_uri": "https://localhost:8080/"
        },
        "id": "-Epq-t7ti2cP",
        "outputId": "c0388621-54ce-44dc-c8b6-41265bcae3f5"
      },
      "source": [
        "eng_trans = []\n",
        "eng_trans = indic2en_model.translate_paragraph(tamil[0], 'ta', 'en')"
      ],
      "execution_count": 84,
      "outputs": [
        {
          "output_type": "stream",
          "name": "stderr",
          "text": [
            "100%|██████████| 24/24 [00:00<00:00, 2797.21it/s]\n"
          ]
        }
      ]
    },
    {
      "cell_type": "code",
      "metadata": {
        "id": "Vooc1Gd432fW",
        "outputId": "5b4502e6-b9d5-43e7-d656-a9fdf67c7640",
        "colab": {
          "base_uri": "https://localhost:8080/",
          "height": 137
        }
      },
      "source": [
        "english[0]"
      ],
      "execution_count": 129,
      "outputs": [
        {
          "output_type": "execute_result",
          "data": {
            "application/vnd.google.colaboratory.intrinsic+json": {
              "type": "string"
            },
            "text/plain": [
              "'.Sauti said, And then the Nagas drenched by that shower, became exceedingly glad. And borne by that bird of fair feathers, they soon arrived at the island. That island had been fixed by the Creator of the Universe as the abode of the makaras. There they saw the terrible Lavana Samudra . On arriving there with Garuda, they saw there a beautul forest washed by the waters of the sea and resounding with the music of winged choirs. And there were clusters of trees all around laden with various fruits and flowers. And there were also fair mansions all around; and many tanks full of lotuses. And it was also adorned with many lakes of pure water. And it was refreshed with pure incense-breathing breezes. And it was adorned with many a tree that grew only on the hills of Malaya, and seemed by their tallness to reach the very heavens. And there were also various other trees whose flowers were scattered all around by the breeze. And that forest was charming and dear to the Gandharvas and always gave them pleasure. And it was full of bees maddened with the honey they sucked. And the sight of all this was exceedingly delightful. And in consequence of many things there, capable of charming everybody, that forest was fair, delightful, and holy. And, echoing with the notes of various birds, it delighted greatly the sons of Kadru..And the snakes, after arriving at that forest, began to enjoy themselves. And they commanded the lord of birds, viz., Garuda, of great energy, saying,..[paragraph continues] Convey us to some other fair island with pure water. Thou ranger of the skies, thou must have seen many fair regions while coursing . Garuda, alter reflecting for a few moments, asked his mother Vinata, saying, Why, mother, have I to do the bidding of the snakes? Vinata thus questioned by him spake unto that ranger of the skies, her son, invested with every virtue, of great energy, and great strength, as follows: Vinata said, O thou best of birds, I have become, from misfortune, the slave of my co-we. The snakes, by an act of deception, caused me to lose my bet and have made me so. When his mother had told him the reason, that ranger of the skies, dejected with grief, addressed the snakes, saying, Tell me, ye snakes, by bringing what thing, gaining a knowledge of what thing, or doing what act of prowess, we may be freed from this state of bondage to you. Sauti continued, The snakes, hearing him, said, Bring thou amrita by force. Then O bird, shall you be freed from bondage..'"
            ]
          },
          "metadata": {},
          "execution_count": 129
        }
      ]
    },
    {
      "cell_type": "code",
      "metadata": {
        "id": "FlKCAKIRL2La",
        "outputId": "a48f1ae0-75e1-40a0-a9ac-138c495cf6c4",
        "colab": {
          "base_uri": "https://localhost:8080/",
          "height": 137
        }
      },
      "source": [
        "eng_trans"
      ],
      "execution_count": 130,
      "outputs": [
        {
          "output_type": "execute_result",
          "data": {
            "application/vnd.google.colaboratory.intrinsic+json": {
              "type": "string"
            },
            "text/plain": [
              "'Saudis said, the snakes which were wet in the rain, were very happy after that. The beautiful winged bird rushed to the island to carry itself. The island was determined by the Creator of the universe as the location of the pollinators. There they saw a terrible sea of salt. Those who came with Garuda felt that there was a beautiful underwater forest on the seabed and that the music of the feathered musicians was everywhere. In the same way, we have been able to bring about a change in people\\'s lives. There, in clusters, trees were abundant with a variety of flowers and fruits, and there were beautiful mansions. It was also filled with lotus lakes. There were many lakes with clean water. There was excitement in the air because of the fresh air. There were many trees that grew only in the Malayan hills. They were tall enough to reach the sky. In many other trees, their flowers fell and were spread beautifully with the help of a thistle. In this way, the forest was beautiful, always pleasant and pleasant to the sages. It was full of drunken beetles eating wine from flowers. All these scenes were a source of great joy, and the forest was, for many reasons, pleasing, beautiful and sacred. Echoing the chants of many birds, it brought joy to Kadru\\'s grandsons. The snakes came to the forest and spent their time happily. Let them take us to some other beautiful, clean - water island, to the mighty King of the birds, Lord Karuna. Since you did not fly, they ordered that you must have seen so many beautiful places in the flight. After thinking to Garh for some time, she asked her mother, Mother, why should I fulfill all the orders of these snakes? \"\" \"I asked my son, who is the greatest of all birds, the most powerful, the most noble of all virtues, and the greatest of all birds, that I became a slave of my brother.\" \"\" The snakes, she said, cheated, defeated the race, and put me in this situation. Upon hearing his mother say this, the skydiver was so distressed that he asked the snakes, if I bring something, or if I get knowledge of something, or if I do any heroic act, we will get rid of this slavery, tell me. O bird, then you will be free from your bondage.'"
            ]
          },
          "metadata": {},
          "execution_count": 130
        }
      ]
    },
    {
      "cell_type": "markdown",
      "metadata": {
        "id": "T-QL21Q0af5X"
      },
      "source": [
        "# **BLEU SCORE CALCULATION**"
      ]
    },
    {
      "cell_type": "code",
      "metadata": {
        "id": "2rhLJbL36xWX",
        "outputId": "2be4c470-bac2-4202-9146-de8805531b5c",
        "colab": {
          "base_uri": "https://localhost:8080/"
        }
      },
      "source": [
        "import sacrebleu\n",
        "from sacremoses import MosesDetokenizer\n",
        "md = MosesDetokenizer(lang='en')\n",
        "\n",
        "# Open the test dataset human translation file and detokenize the references\n",
        "refs = [] \n",
        "refs.append(english[0])\n",
        "print(\"Reference 1st sentence:\", refs[0])\n",
        "\n",
        "# Open the translation file by the NMT model and detokenize the predictions\n",
        "preds = [] \n",
        "preds.append(eng_trans)\n",
        "print(\"Model Translation 1st sentence :\", preds[0])"
      ],
      "execution_count": 132,
      "outputs": [
        {
          "output_type": "stream",
          "name": "stdout",
          "text": [
            "Reference 1st sentence: .Sauti said, And then the Nagas drenched by that shower, became exceedingly glad. And borne by that bird of fair feathers, they soon arrived at the island. That island had been fixed by the Creator of the Universe as the abode of the makaras. There they saw the terrible Lavana Samudra . On arriving there with Garuda, they saw there a beautul forest washed by the waters of the sea and resounding with the music of winged choirs. And there were clusters of trees all around laden with various fruits and flowers. And there were also fair mansions all around; and many tanks full of lotuses. And it was also adorned with many lakes of pure water. And it was refreshed with pure incense-breathing breezes. And it was adorned with many a tree that grew only on the hills of Malaya, and seemed by their tallness to reach the very heavens. And there were also various other trees whose flowers were scattered all around by the breeze. And that forest was charming and dear to the Gandharvas and always gave them pleasure. And it was full of bees maddened with the honey they sucked. And the sight of all this was exceedingly delightful. And in consequence of many things there, capable of charming everybody, that forest was fair, delightful, and holy. And, echoing with the notes of various birds, it delighted greatly the sons of Kadru..And the snakes, after arriving at that forest, began to enjoy themselves. And they commanded the lord of birds, viz., Garuda, of great energy, saying,..[paragraph continues] Convey us to some other fair island with pure water. Thou ranger of the skies, thou must have seen many fair regions while coursing . Garuda, alter reflecting for a few moments, asked his mother Vinata, saying, Why, mother, have I to do the bidding of the snakes? Vinata thus questioned by him spake unto that ranger of the skies, her son, invested with every virtue, of great energy, and great strength, as follows: Vinata said, O thou best of birds, I have become, from misfortune, the slave of my co-we. The snakes, by an act of deception, caused me to lose my bet and have made me so. When his mother had told him the reason, that ranger of the skies, dejected with grief, addressed the snakes, saying, Tell me, ye snakes, by bringing what thing, gaining a knowledge of what thing, or doing what act of prowess, we may be freed from this state of bondage to you. Sauti continued, The snakes, hearing him, said, Bring thou amrita by force. Then O bird, shall you be freed from bondage..\n",
            "Model Translation 1st sentence : Saudis said, the snakes which were wet in the rain, were very happy after that. The beautiful winged bird rushed to the island to carry itself. The island was determined by the Creator of the universe as the location of the pollinators. There they saw a terrible sea of salt. Those who came with Garuda felt that there was a beautiful underwater forest on the seabed and that the music of the feathered musicians was everywhere. In the same way, we have been able to bring about a change in people's lives. There, in clusters, trees were abundant with a variety of flowers and fruits, and there were beautiful mansions. It was also filled with lotus lakes. There were many lakes with clean water. There was excitement in the air because of the fresh air. There were many trees that grew only in the Malayan hills. They were tall enough to reach the sky. In many other trees, their flowers fell and were spread beautifully with the help of a thistle. In this way, the forest was beautiful, always pleasant and pleasant to the sages. It was full of drunken beetles eating wine from flowers. All these scenes were a source of great joy, and the forest was, for many reasons, pleasing, beautiful and sacred. Echoing the chants of many birds, it brought joy to Kadru's grandsons. The snakes came to the forest and spent their time happily. Let them take us to some other beautiful, clean - water island, to the mighty King of the birds, Lord Karuna. Since you did not fly, they ordered that you must have seen so many beautiful places in the flight. After thinking to Garh for some time, she asked her mother, Mother, why should I fulfill all the orders of these snakes? \"\" \"I asked my son, who is the greatest of all birds, the most powerful, the most noble of all virtues, and the greatest of all birds, that I became a slave of my brother.\" \"\" The snakes, she said, cheated, defeated the race, and put me in this situation. Upon hearing his mother say this, the skydiver was so distressed that he asked the snakes, if I bring something, or if I get knowledge of something, or if I do any heroic act, we will get rid of this slavery, tell me. O bird, then you will be free from your bondage.\n"
          ]
        }
      ]
    },
    {
      "cell_type": "code",
      "metadata": {
        "id": "fEzvFaxNhj8S"
      },
      "source": [
        "for line in zip(refs,preds):\n",
        "    test = line[0]\n",
        "    pred = line[1]"
      ],
      "execution_count": 133,
      "outputs": []
    },
    {
      "cell_type": "code",
      "metadata": {
        "id": "zgjTjfIlhqhD",
        "outputId": "11a23b7b-ce26-4eb2-f31c-073728562258",
        "colab": {
          "base_uri": "https://localhost:8080/"
        }
      },
      "source": [
        "print(test, \"\\t--->\\t\", pred)"
      ],
      "execution_count": 134,
      "outputs": [
        {
          "output_type": "stream",
          "name": "stdout",
          "text": [
            ".Sauti said, And then the Nagas drenched by that shower, became exceedingly glad. And borne by that bird of fair feathers, they soon arrived at the island. That island had been fixed by the Creator of the Universe as the abode of the makaras. There they saw the terrible Lavana Samudra . On arriving there with Garuda, they saw there a beautul forest washed by the waters of the sea and resounding with the music of winged choirs. And there were clusters of trees all around laden with various fruits and flowers. And there were also fair mansions all around; and many tanks full of lotuses. And it was also adorned with many lakes of pure water. And it was refreshed with pure incense-breathing breezes. And it was adorned with many a tree that grew only on the hills of Malaya, and seemed by their tallness to reach the very heavens. And there were also various other trees whose flowers were scattered all around by the breeze. And that forest was charming and dear to the Gandharvas and always gave them pleasure. And it was full of bees maddened with the honey they sucked. And the sight of all this was exceedingly delightful. And in consequence of many things there, capable of charming everybody, that forest was fair, delightful, and holy. And, echoing with the notes of various birds, it delighted greatly the sons of Kadru..And the snakes, after arriving at that forest, began to enjoy themselves. And they commanded the lord of birds, viz., Garuda, of great energy, saying,..[paragraph continues] Convey us to some other fair island with pure water. Thou ranger of the skies, thou must have seen many fair regions while coursing . Garuda, alter reflecting for a few moments, asked his mother Vinata, saying, Why, mother, have I to do the bidding of the snakes? Vinata thus questioned by him spake unto that ranger of the skies, her son, invested with every virtue, of great energy, and great strength, as follows: Vinata said, O thou best of birds, I have become, from misfortune, the slave of my co-we. The snakes, by an act of deception, caused me to lose my bet and have made me so. When his mother had told him the reason, that ranger of the skies, dejected with grief, addressed the snakes, saying, Tell me, ye snakes, by bringing what thing, gaining a knowledge of what thing, or doing what act of prowess, we may be freed from this state of bondage to you. Sauti continued, The snakes, hearing him, said, Bring thou amrita by force. Then O bird, shall you be freed from bondage.. \t--->\t Saudis said, the snakes which were wet in the rain, were very happy after that. The beautiful winged bird rushed to the island to carry itself. The island was determined by the Creator of the universe as the location of the pollinators. There they saw a terrible sea of salt. Those who came with Garuda felt that there was a beautiful underwater forest on the seabed and that the music of the feathered musicians was everywhere. In the same way, we have been able to bring about a change in people's lives. There, in clusters, trees were abundant with a variety of flowers and fruits, and there were beautiful mansions. It was also filled with lotus lakes. There were many lakes with clean water. There was excitement in the air because of the fresh air. There were many trees that grew only in the Malayan hills. They were tall enough to reach the sky. In many other trees, their flowers fell and were spread beautifully with the help of a thistle. In this way, the forest was beautiful, always pleasant and pleasant to the sages. It was full of drunken beetles eating wine from flowers. All these scenes were a source of great joy, and the forest was, for many reasons, pleasing, beautiful and sacred. Echoing the chants of many birds, it brought joy to Kadru's grandsons. The snakes came to the forest and spent their time happily. Let them take us to some other beautiful, clean - water island, to the mighty King of the birds, Lord Karuna. Since you did not fly, they ordered that you must have seen so many beautiful places in the flight. After thinking to Garh for some time, she asked her mother, Mother, why should I fulfill all the orders of these snakes? \"\" \"I asked my son, who is the greatest of all birds, the most powerful, the most noble of all virtues, and the greatest of all birds, that I became a slave of my brother.\" \"\" The snakes, she said, cheated, defeated the race, and put me in this situation. Upon hearing his mother say this, the skydiver was so distressed that he asked the snakes, if I bring something, or if I get knowledge of something, or if I do any heroic act, we will get rid of this slavery, tell me. O bird, then you will be free from your bondage.\n"
          ]
        }
      ]
    },
    {
      "cell_type": "code",
      "metadata": {
        "id": "oP0xZFIbhris",
        "outputId": "a0659c0e-38fb-4ba5-89c4-50685deb6097",
        "colab": {
          "base_uri": "https://localhost:8080/"
        }
      },
      "source": [
        "bleu = sacrebleu.sentence_bleu(pred, [test], smooth_method='exp')\n",
        "print(bleu.score)"
      ],
      "execution_count": 135,
      "outputs": [
        {
          "output_type": "stream",
          "name": "stdout",
          "text": [
            "6.432976148394318\n"
          ]
        }
      ]
    }
  ]
}